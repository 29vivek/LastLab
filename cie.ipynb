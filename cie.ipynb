{
 "cells": [
  {
   "cell_type": "code",
   "execution_count": 1,
   "metadata": {},
   "outputs": [],
   "source": [
    "import pandas as pd\n",
    "import numpy as np"
   ]
  },
  {
   "cell_type": "code",
   "execution_count": 52,
   "metadata": {},
   "outputs": [],
   "source": [
    "df1 = pd.read_csv('../Narcotics_Dataset.csv')\n",
    "# df2 = pd.read_csv('narc_data.csv', encoding= 'unicode_escape')"
   ]
  },
  {
   "cell_type": "code",
   "execution_count": 53,
   "metadata": {},
   "outputs": [
    {
     "data": {
      "text/html": [
       "<div>\n",
       "<style scoped>\n",
       "    .dataframe tbody tr th:only-of-type {\n",
       "        vertical-align: middle;\n",
       "    }\n",
       "\n",
       "    .dataframe tbody tr th {\n",
       "        vertical-align: top;\n",
       "    }\n",
       "\n",
       "    .dataframe thead th {\n",
       "        text-align: right;\n",
       "    }\n",
       "</style>\n",
       "<table border=\"1\" class=\"dataframe\">\n",
       "  <thead>\n",
       "    <tr style=\"text-align: right;\">\n",
       "      <th></th>\n",
       "      <th>SL\\nNo.</th>\n",
       "      <th>DATE OF\\nSEIZURE</th>\n",
       "      <th>SEIZING\\nAGENCY</th>\n",
       "      <th>QUANTITY AND\\nDRUG SEIZED\\n(IN KGS.)</th>\n",
       "      <th>PLACE\\nOF\\nORIGIN</th>\n",
       "      <th>INTENDED\\nDESTINAT\\nION</th>\n",
       "      <th>NAME OF\\nPERSONS ARRESTED</th>\n",
       "      <th>NATION-\\nALITY</th>\n",
       "      <th>AGE</th>\n",
       "      <th>SEX</th>\n",
       "    </tr>\n",
       "  </thead>\n",
       "  <tbody>\n",
       "    <tr>\n",
       "      <th>0</th>\n",
       "      <td>1</td>\n",
       "      <td>01.02.2019</td>\n",
       "      <td>RPF/NCB\\nGuwahati</td>\n",
       "      <td>24.500 kg\\nGanja</td>\n",
       "      <td>-</td>\n",
       "      <td>-</td>\n",
       "      <td>1.Sanjoy Das\\n2.Juyel Das</td>\n",
       "      <td>Indian\\nIndian</td>\n",
       "      <td>32\\n42</td>\n",
       "      <td>M\\nM</td>\n",
       "    </tr>\n",
       "    <tr>\n",
       "      <th>1</th>\n",
       "      <td>2</td>\n",
       "      <td>02.02.2019</td>\n",
       "      <td>NCB Imphal along with NAB,State Police &amp; Distr...</td>\n",
       "      <td>Destroyed illicit cultivation of Opuim spread ...</td>\n",
       "      <td>-</td>\n",
       "      <td>-</td>\n",
       "      <td>-</td>\n",
       "      <td>-</td>\n",
       "      <td>-</td>\n",
       "      <td>-</td>\n",
       "    </tr>\n",
       "    <tr>\n",
       "      <th>2</th>\n",
       "      <td>3</td>\n",
       "      <td>02.02.2019</td>\n",
       "      <td>BAF/NCB\\nAmritsar</td>\n",
       "      <td>3.990 kg\\nHeroin &amp; 80\\ngram Opium</td>\n",
       "      <td>SWA</td>\n",
       "      <td>-</td>\n",
       "      <td>-</td>\n",
       "      <td>-</td>\n",
       "      <td>-</td>\n",
       "      <td>-</td>\n",
       "    </tr>\n",
       "    <tr>\n",
       "      <th>3</th>\n",
       "      <td>4</td>\n",
       "      <td>02.02.2019</td>\n",
       "      <td>Customs,\\nSIIB, New\\nDelhi</td>\n",
       "      <td>581.455 kg of\\nDry Chatt/Khat</td>\n",
       "      <td>Ethiopia</td>\n",
       "      <td>-</td>\n",
       "      <td>1.Ahmed Hassan</td>\n",
       "      <td>Somalian</td>\n",
       "      <td>30</td>\n",
       "      <td>M</td>\n",
       "    </tr>\n",
       "    <tr>\n",
       "      <th>4</th>\n",
       "      <td>5</td>\n",
       "      <td>04.02.2019</td>\n",
       "      <td>NCB Imphal along with NAB, Manipur Rifles,Stat...</td>\n",
       "      <td>Destroyed illicit cultivation of Opuim spread ...</td>\n",
       "      <td>-</td>\n",
       "      <td>-</td>\n",
       "      <td>-</td>\n",
       "      <td>-</td>\n",
       "      <td>-</td>\n",
       "      <td>-</td>\n",
       "    </tr>\n",
       "  </tbody>\n",
       "</table>\n",
       "</div>"
      ],
      "text/plain": [
       "  SL\\nNo. DATE OF\\nSEIZURE                                    SEIZING\\nAGENCY  \\\n",
       "0       1       01.02.2019                                  RPF/NCB\\nGuwahati   \n",
       "1       2       02.02.2019  NCB Imphal along with NAB,State Police & Distr...   \n",
       "2       3       02.02.2019                                  BAF/NCB\\nAmritsar   \n",
       "3       4       02.02.2019                         Customs,\\nSIIB, New\\nDelhi   \n",
       "4       5       04.02.2019  NCB Imphal along with NAB, Manipur Rifles,Stat...   \n",
       "\n",
       "                QUANTITY AND\\nDRUG SEIZED\\n(IN KGS.) PLACE\\nOF\\nORIGIN  \\\n",
       "0                                   24.500 kg\\nGanja                 -   \n",
       "1  Destroyed illicit cultivation of Opuim spread ...                 -   \n",
       "2                  3.990 kg\\nHeroin & 80\\ngram Opium               SWA   \n",
       "3                      581.455 kg of\\nDry Chatt/Khat          Ethiopia   \n",
       "4  Destroyed illicit cultivation of Opuim spread ...                 -   \n",
       "\n",
       "  INTENDED\\nDESTINAT\\nION  NAME OF\\nPERSONS ARRESTED  NATION-\\nALITY     AGE  \\\n",
       "0                       -  1.Sanjoy Das\\n2.Juyel Das  Indian\\nIndian  32\\n42   \n",
       "1                       -                          -               -       -   \n",
       "2                       -                          -               -       -   \n",
       "3                       -             1.Ahmed Hassan        Somalian      30   \n",
       "4                       -                          -               -       -   \n",
       "\n",
       "    SEX  \n",
       "0  M\\nM  \n",
       "1     -  \n",
       "2     -  \n",
       "3     M  \n",
       "4     -  "
      ]
     },
     "execution_count": 53,
     "metadata": {},
     "output_type": "execute_result"
    }
   ],
   "source": [
    "df1.head()"
   ]
  },
  {
   "cell_type": "code",
   "execution_count": 51,
   "metadata": {},
   "outputs": [],
   "source": [
    "# df2.head()"
   ]
  },
  {
   "cell_type": "code",
   "execution_count": 54,
   "metadata": {},
   "outputs": [
    {
     "name": "stdout",
     "output_type": "stream",
     "text": [
      "<class 'pandas.core.frame.DataFrame'>\n",
      "RangeIndex: 210 entries, 0 to 209\n",
      "Data columns (total 10 columns):\n",
      " #   Column                              Non-Null Count  Dtype \n",
      "---  ------                              --------------  ----- \n",
      " 0   SL\n",
      "No.                              46 non-null     object\n",
      " 1   DATE OF\n",
      "SEIZURE                     45 non-null     object\n",
      " 2   SEIZING\n",
      "AGENCY                      48 non-null     object\n",
      " 3   QUANTITY AND\n",
      "DRUG SEIZED\n",
      "(IN KGS.)  49 non-null     object\n",
      " 4   PLACE\n",
      "OF\n",
      "ORIGIN                     43 non-null     object\n",
      " 5   INTENDED\n",
      "DESTINAT\n",
      "ION               43 non-null     object\n",
      " 6   NAME OF\n",
      "PERSONS ARRESTED            70 non-null     object\n",
      " 7   NATION-\n",
      "ALITY                       70 non-null     object\n",
      " 8   AGE                                 70 non-null     object\n",
      " 9   SEX                                 70 non-null     object\n",
      "dtypes: object(10)\n",
      "memory usage: 16.5+ KB\n"
     ]
    }
   ],
   "source": [
    "df1.info()"
   ]
  },
  {
   "cell_type": "code",
   "execution_count": 55,
   "metadata": {},
   "outputs": [],
   "source": [
    "# df2.info()"
   ]
  },
  {
   "cell_type": "code",
   "execution_count": 56,
   "metadata": {},
   "outputs": [
    {
     "data": {
      "text/plain": [
       "(210, 10)"
      ]
     },
     "execution_count": 56,
     "metadata": {},
     "output_type": "execute_result"
    }
   ],
   "source": [
    "df1.shape"
   ]
  },
  {
   "cell_type": "code",
   "execution_count": 95,
   "metadata": {},
   "outputs": [],
   "source": [
    "# df2.shape"
   ]
  },
  {
   "cell_type": "code",
   "execution_count": 57,
   "metadata": {},
   "outputs": [
    {
     "data": {
      "text/plain": [
       "Index(['SL\\nNo.', 'DATE OF\\nSEIZURE', 'SEIZING\\nAGENCY',\n",
       "       'QUANTITY AND\\nDRUG SEIZED\\n(IN KGS.)', 'PLACE\\nOF\\nORIGIN',\n",
       "       'INTENDED\\nDESTINAT\\nION', 'NAME OF\\nPERSONS ARRESTED',\n",
       "       'NATION-\\nALITY', 'AGE', 'SEX'],\n",
       "      dtype='object')"
      ]
     },
     "execution_count": 57,
     "metadata": {},
     "output_type": "execute_result"
    }
   ],
   "source": [
    "df1.keys()"
   ]
  },
  {
   "cell_type": "code",
   "execution_count": 58,
   "metadata": {},
   "outputs": [
    {
     "data": {
      "text/plain": [
       "0              1\n",
       "1              2\n",
       "2              3\n",
       "3              4\n",
       "4              5\n",
       "         ...    \n",
       "205          NaN\n",
       "206          NaN\n",
       "207          NaN\n",
       "208          NaN\n",
       "209    *********\n",
       "Name: SL\\nNo., Length: 210, dtype: object"
      ]
     },
     "execution_count": 58,
     "metadata": {},
     "output_type": "execute_result"
    }
   ],
   "source": [
    "df1['SL\\nNo.']"
   ]
  },
  {
   "cell_type": "code",
   "execution_count": 63,
   "metadata": {
    "scrolled": true
   },
   "outputs": [
    {
     "data": {
      "text/plain": [
       "array(['01.02.2019', '02.02.2019', '04.02.2019', '05.02.2019',\n",
       "       '06.02.2019', '07.02.2019', '10.02.2019', '11.02.2019',\n",
       "       '13.02.2019', '14.02.2019', '15.02.2019', '16.02.2019',\n",
       "       '17.02.2019', '18.02.2019', '19.02.2019', '20.02.2019',\n",
       "       '21.02.2019', '22.02.2019', '23.02.2019', '25.02.2019',\n",
       "       '27.02.2019', 'Feb., 2019'], dtype=object)"
      ]
     },
     "execution_count": 63,
     "metadata": {},
     "output_type": "execute_result"
    }
   ],
   "source": [
    "dfnon = df1.dropna(subset=['DATE OF\\nSEIZURE'])\n",
    "dfnon['DATE OF\\nSEIZURE'].unique()"
   ]
  },
  {
   "cell_type": "code",
   "execution_count": 64,
   "metadata": {},
   "outputs": [
    {
     "data": {
      "text/plain": [
       "DATE OF\\nSEIZURE\n",
       "01.02.2019    1\n",
       "02.02.2019    3\n",
       "04.02.2019    2\n",
       "05.02.2019    4\n",
       "06.02.2019    3\n",
       "07.02.2019    3\n",
       "10.02.2019    1\n",
       "11.02.2019    2\n",
       "13.02.2019    1\n",
       "14.02.2019    1\n",
       "15.02.2019    2\n",
       "16.02.2019    2\n",
       "17.02.2019    2\n",
       "18.02.2019    2\n",
       "19.02.2019    4\n",
       "20.02.2019    1\n",
       "21.02.2019    2\n",
       "22.02.2019    3\n",
       "23.02.2019    2\n",
       "25.02.2019    2\n",
       "27.02.2019    1\n",
       "Feb., 2019    1\n",
       "dtype: int64"
      ]
     },
     "execution_count": 64,
     "metadata": {},
     "output_type": "execute_result"
    }
   ],
   "source": [
    "dups = dfnon.pivot_table(index = ['DATE OF\\nSEIZURE'], aggfunc ='size')\n",
    "dups"
   ]
  },
  {
   "cell_type": "code",
   "execution_count": 65,
   "metadata": {
    "scrolled": true
   },
   "outputs": [
    {
     "data": {
      "text/plain": [
       "<AxesSubplot:xlabel='DATE OF\\nSEIZURE'>"
      ]
     },
     "execution_count": 65,
     "metadata": {},
     "output_type": "execute_result"
    },
    {
     "data": {
      "image/png": "[encoded data removed]",
      "text/plain": [
       "<Figure size 432x288 with 1 Axes>"
      ]
     },
     "metadata": {
      "needs_background": "light"
     },
     "output_type": "display_data"
    }
   ],
   "source": [
    "dups.plot(kind='bar')"
   ]
  },
  {
   "cell_type": "code",
   "execution_count": 66,
   "metadata": {},
   "outputs": [],
   "source": [
    "dfnon2 = df1.dropna(subset=['NATION-\\nALITY'])"
   ]
  },
  {
   "cell_type": "code",
   "execution_count": 75,
   "metadata": {},
   "outputs": [
    {
     "data": {
      "text/plain": [
       "array(['Indian\\nIndian', '-', 'Somalian', 'Indian',\n",
       "       'Indian\\nIndian\\nIndian\\nIndian', 'Venezuela', 'Nepalese'],\n",
       "      dtype=object)"
      ]
     },
     "execution_count": 75,
     "metadata": {},
     "output_type": "execute_result"
    }
   ],
   "source": [
    "dfnon2['NATION-\\nALITY'].unique()"
   ]
  },
  {
   "cell_type": "code",
   "execution_count": 92,
   "metadata": {},
   "outputs": [
    {
     "data": {
      "text/plain": [
       "{'Indian': 49, 'Venezuela': 1, 'Nepalese': 11, 'Somalian': 1}"
      ]
     },
     "execution_count": 92,
     "metadata": {},
     "output_type": "execute_result"
    }
   ],
   "source": [
    "arr = np.array(dfnon2['NATION-\\nALITY'])\n",
    "key_dict = {}\n",
    "key_dict['Indian']=0\n",
    "key_dict['Venezuela']=0\n",
    "key_dict['Nepalese']=0\n",
    "key_dict['Somalian']=0\n",
    "\n",
    "for nationality in arr:\n",
    "    if nationality == '-':\n",
    "        continue\n",
    "    for indiv in nationality.split('\\n'):\n",
    "        key_dict[indiv] = key_dict[indiv]+1\n",
    "        \n",
    "key_dict"
   ]
  },
  {
   "cell_type": "code",
   "execution_count": 137,
   "metadata": {},
   "outputs": [
    {
     "data": {
      "text/plain": [
       "([<matplotlib.axis.XTick at 0x7ff404371eb0>,\n",
       "  <matplotlib.axis.XTick at 0x7ff404371e80>,\n",
       "  <matplotlib.axis.XTick at 0x7ff4043eab20>,\n",
       "  <matplotlib.axis.XTick at 0x7ff4043a3400>],\n",
       " [Text(0, 0, 'Indian'),\n",
       "  Text(1, 0, 'Venezuela'),\n",
       "  Text(2, 0, 'Nepalese'),\n",
       "  Text(3, 0, 'Somalian')])"
      ]
     },
     "execution_count": 137,
     "metadata": {},
     "output_type": "execute_result"
    },
    {
     "data": {
      "image/png": "[encoded data removed]",
      "text/plain": [
       "<Figure size 432x288 with 1 Axes>"
      ]
     },
     "metadata": {
      "needs_background": "light"
     },
     "output_type": "display_data"
    }
   ],
   "source": [
    "import matplotlib.pyplot as plt\n",
    "\n",
    "plt.bar(range(len(key_dict)), list(key_dict.values()), align='center')\n",
    "plt.xticks(range(len(key_dict)), list(key_dict.keys()))"
   ]
  },
  {
   "cell_type": "code",
   "execution_count": 155,
   "metadata": {},
   "outputs": [
    {
     "data": {
      "text/plain": [
       "SEX\n",
       "F              5\n",
       "M             35\n",
       "M\\nM           9\n",
       "M\\nM\\nM\\nM     1\n",
       "dtype: int64"
      ]
     },
     "execution_count": 155,
     "metadata": {},
     "output_type": "execute_result"
    }
   ],
   "source": [
    "# plotting male female statistics\n",
    "dfnon3 = df1.dropna(subset = ['SEX']) \n",
    "dfnon4 = dfnon3.drop(dfnon3[dfnon3['SEX'] == '-'].index)\n",
    "dups2 = dfnon4.pivot_table(index = ['SEX'], aggfunc ='size')\n",
    "dups2"
   ]
  },
  {
   "cell_type": "code",
   "execution_count": 162,
   "metadata": {},
   "outputs": [
    {
     "data": {
      "text/plain": [
       "([<matplotlib.patches.Wedge at 0x7ff404165250>,\n",
       "  <matplotlib.patches.Wedge at 0x7ff404165940>],\n",
       " [Text(-1.0648848457419238, 0.27571772759327495, 'M'),\n",
       "  Text(1.064884858649201, -0.27571767774241696, 'F')],\n",
       " [Text(-0.5808462794955948, 0.15039148777814995, '92%'),\n",
       "  Text(0.5808462865359277, -0.15039146058677288, '8%')])"
      ]
     },
     "execution_count": 162,
     "metadata": {},
     "output_type": "execute_result"
    },
    {
     "data": {
      "image/png": "[encoded data removed]",
      "text/plain": [
       "<Figure size 432x288 with 1 Axes>"
      ]
     },
     "metadata": {},
     "output_type": "display_data"
    }
   ],
   "source": [
    "sex_array = np.array(dfnon4['SEX'])\n",
    "sex_array\n",
    "\n",
    "count_male = 0\n",
    "count_female = 0\n",
    "\n",
    "for sex in sex_array:\n",
    "    for s in sex.split('\\n'):\n",
    "        if s == 'M':\n",
    "            count_male = count_male + 1\n",
    "        elif s == 'F':\n",
    "            count_female = count_female + 1\n",
    "            \n",
    "\n",
    "plt.pie([count_male, count_female], labels = ['M', 'F'], autopct='%1.0f%%')"
   ]
  },
  {
   "cell_type": "code",
   "execution_count": null,
   "metadata": {},
   "outputs": [],
   "source": []
  }
 ],
 "metadata": {
  "kernelspec": {
   "display_name": "DSE",
   "language": "python",
   "name": "dse"
  },
  "language_info": {
   "codemirror_mode": {
    "name": "ipython",
    "version": 3
   },
   "file_extension": ".py",
   "mimetype": "text/x-python",
   "name": "python",
   "nbconvert_exporter": "python",
   "pygments_lexer": "ipython3",
   "version": "3.8.5"
  }
 },
 "nbformat": 4,
 "nbformat_minor": 4
}
